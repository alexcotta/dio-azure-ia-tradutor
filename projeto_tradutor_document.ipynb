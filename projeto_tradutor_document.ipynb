{
  "nbformat": 4,
  "nbformat_minor": 0,
  "metadata": {
    "colab": {
      "provenance": []
    },
    "kernelspec": {
      "name": "python3",
      "display_name": "Python 3"
    },
    "language_info": {
      "name": "python"
    }
  },
  "cells": [
    {
      "cell_type": "markdown",
      "source": [
        "## Projeto tradutor de documentos docx"
      ],
      "metadata": {
        "id": "Xj9UKvO1j-Ni"
      }
    },
    {
      "cell_type": "code",
      "execution_count": 19,
      "metadata": {
        "colab": {
          "base_uri": "https://localhost:8080/"
        },
        "id": "IpOo5UzpjnSX",
        "outputId": "464d7474-aed0-4fd3-fbd1-a9027f94ff40"
      },
      "outputs": [
        {
          "output_type": "stream",
          "name": "stdout",
          "text": [
            "Requirement already satisfied: deep-translator in /usr/local/lib/python3.10/dist-packages (1.11.4)\n",
            "Requirement already satisfied: beautifulsoup4<5.0.0,>=4.9.1 in /usr/local/lib/python3.10/dist-packages (from deep-translator) (4.12.3)\n",
            "Requirement already satisfied: requests<3.0.0,>=2.23.0 in /usr/local/lib/python3.10/dist-packages (from deep-translator) (2.32.3)\n",
            "Requirement already satisfied: soupsieve>1.2 in /usr/local/lib/python3.10/dist-packages (from beautifulsoup4<5.0.0,>=4.9.1->deep-translator) (2.6)\n",
            "Requirement already satisfied: charset-normalizer<4,>=2 in /usr/local/lib/python3.10/dist-packages (from requests<3.0.0,>=2.23.0->deep-translator) (3.4.0)\n",
            "Requirement already satisfied: idna<4,>=2.5 in /usr/local/lib/python3.10/dist-packages (from requests<3.0.0,>=2.23.0->deep-translator) (3.10)\n",
            "Requirement already satisfied: urllib3<3,>=1.21.1 in /usr/local/lib/python3.10/dist-packages (from requests<3.0.0,>=2.23.0->deep-translator) (2.2.3)\n",
            "Requirement already satisfied: certifi>=2017.4.17 in /usr/local/lib/python3.10/dist-packages (from requests<3.0.0,>=2.23.0->deep-translator) (2024.8.30)\n",
            "Collecting python-docx\n",
            "  Downloading python_docx-1.1.2-py3-none-any.whl.metadata (2.0 kB)\n",
            "Requirement already satisfied: lxml>=3.1.0 in /usr/local/lib/python3.10/dist-packages (from python-docx) (5.3.0)\n",
            "Requirement already satisfied: typing-extensions>=4.9.0 in /usr/local/lib/python3.10/dist-packages (from python-docx) (4.12.2)\n",
            "Downloading python_docx-1.1.2-py3-none-any.whl (244 kB)\n",
            "\u001b[2K   \u001b[90m━━━━━━━━━━━━━━━━━━━━━━━━━━━━━━━━━━━━━━━━\u001b[0m \u001b[32m244.3/244.3 kB\u001b[0m \u001b[31m6.6 MB/s\u001b[0m eta \u001b[36m0:00:00\u001b[0m\n",
            "\u001b[?25hInstalling collected packages: python-docx\n",
            "Successfully installed python-docx-1.1.2\n"
          ]
        }
      ],
      "source": [
        "!pip install deep-translator\n",
        "!pip install python-docx"
      ]
    },
    {
      "cell_type": "code",
      "source": [
        "from deep_translator import GoogleTranslator\n",
        "from docx import Document\n",
        "import os"
      ],
      "metadata": {
        "id": "aIa7eQbskQ2s"
      },
      "execution_count": 49,
      "outputs": []
    },
    {
      "cell_type": "code",
      "source": [
        "#Teste de tradução simples\n",
        "tradutor = GoogleTranslator(source= 'portuguese', target= 'en')\n",
        "\n",
        "texto = \"Fala pessoal, inscrevam-se no canal do YouTube para aprenderem mais sobre programação em Python e outras linguagens de programação. \"\n",
        "\n",
        "traducao = tradutor.translate(texto)\n",
        "print(traducao)"
      ],
      "metadata": {
        "colab": {
          "base_uri": "https://localhost:8080/"
        },
        "id": "ao9iufhrkcdq",
        "outputId": "97e6fb6b-a80d-4084-fbab-e1b05ab1b120"
      },
      "execution_count": 48,
      "outputs": [
        {
          "output_type": "stream",
          "name": "stdout",
          "text": [
            "Hey guys, subscribe to the YouTube channel to learn more about programming in Python and other programming languages.\n"
          ]
        }
      ]
    },
    {
      "cell_type": "code",
      "source": [
        "def translate_text(text, language_origin, target_language):\n",
        "  tradutor = GoogleTranslator(source= language_origin, target= target_language)\n",
        "  text_translate = tradutor.translate(text)\n",
        "\n",
        "  return text_translate"
      ],
      "metadata": {
        "id": "Y3KFcP4DmMEs"
      },
      "execution_count": 51,
      "outputs": []
    },
    {
      "cell_type": "code",
      "source": [
        "def save_translate_document(path, full_text, target_language):\n",
        "  translated_document = Document()\n",
        "  for line in full_text:\n",
        "    translated_document.add_paragraph(line)\n",
        "\n",
        "  path_translated = path.replace(\".docx\", f\"_{target_language}.docx\")\n",
        "  translated_document.save(path_translated)\n",
        "  return translated_document"
      ],
      "metadata": {
        "id": "h3G-NV4I3_o9"
      },
      "execution_count": 53,
      "outputs": []
    },
    {
      "cell_type": "code",
      "source": [
        "def translate_document(path, language_origin, target_language):\n",
        "  document = Document(path)\n",
        "  full_text = []\n",
        "  for paragraph in document.paragraphs:\n",
        "    text_translate = translate_text(paragraph.text, language_origin, target_language)\n",
        "    full_text.append(text_translate)\n",
        "\n",
        "  save_translate_document(path, full_text, target_language)\n",
        "  return full_text"
      ],
      "metadata": {
        "id": "SW4R079_nGlE"
      },
      "execution_count": 55,
      "outputs": []
    },
    {
      "cell_type": "code",
      "source": [
        "text = translate_document(\"/content/nothing_else_metters.docx\", \"en\", \"portuguese\")\n",
        "\n",
        "text"
      ],
      "metadata": {
        "colab": {
          "base_uri": "https://localhost:8080/"
        },
        "id": "oIeDrd_PrUKS",
        "outputId": "ff78639f-8805-47f9-920a-2b80620f041a"
      },
      "execution_count": 57,
      "outputs": [
        {
          "output_type": "execute_result",
          "data": {
            "text/plain": [
              "['Tão perto, não importa o quão longe',\n",
              " 'Não poderia ser muito mais sincero',\n",
              " 'Confiando para sempre em quem somos',\n",
              " 'E nada mais importa',\n",
              " 'Nunca me abri desse jeito',\n",
              " 'A vida é nossa, nós a vivemos do nosso jeito',\n",
              " 'Todas essas palavras, eu não digo apenas',\n",
              " 'E nada mais importa',\n",
              " 'Confiança eu busco e encontro em você',\n",
              " 'Cada dia algo novo para nós',\n",
              " 'Mente aberta para uma visão diferente',\n",
              " 'E nada mais importa',\n",
              " 'Nunca me importei com o que eles fazem',\n",
              " 'Nunca se importou com o que eles sabem',\n",
              " 'Mas eu sei',\n",
              " 'Tão perto, não importa o quão longe',\n",
              " 'Não poderia ser muito mais do coração',\n",
              " 'Confiando para sempre em quem somos',\n",
              " 'E nada mais importa',\n",
              " 'Nunca me importei com o que eles fazem',\n",
              " 'Nunca se importou com o que eles sabem',\n",
              " 'Mas eu sei',\n",
              " 'Eu nunca me abri desse jeito',\n",
              " 'A vida é nossa, nós a vivemos do nosso jeito',\n",
              " 'Todas essas palavras, eu não digo apenas',\n",
              " 'E nada mais importa',\n",
              " 'Confiança eu busco e encontro em você',\n",
              " 'Cada dia algo novo para nós',\n",
              " 'Mente aberta para uma visão diferente',\n",
              " 'E nada mais importa',\n",
              " 'Nunca me importei com o que eles dizem',\n",
              " 'Nunca me importei com os jogos que eles jogam',\n",
              " 'Nunca me importei com o que eles fazem',\n",
              " 'Nunca se importou com o que eles sabem',\n",
              " 'E eu sei, sim, sim',\n",
              " 'Tão perto, não importa o quão longe',\n",
              " 'Não poderia ser muito mais sincero',\n",
              " 'Confiando para sempre em quem somos',\n",
              " 'Não, nada mais importa']"
            ]
          },
          "metadata": {},
          "execution_count": 57
        }
      ]
    },
    {
      "cell_type": "code",
      "source": [
        "#Languages support\n",
        "langs_list = GoogleTranslator().get_supported_languages()\n",
        "\n",
        "langs_list"
      ],
      "metadata": {
        "id": "TOEbjaBPlw6J"
      },
      "execution_count": null,
      "outputs": []
    }
  ]
}